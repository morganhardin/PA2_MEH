{
 "cells": [
  {
   "cell_type": "markdown",
   "id": "8ab30afb-cf21-4361-ac5c-ec85a094b7f5",
   "metadata": {},
   "source": [
    "## PA 2\n",
    "---\n",
    "**Author:** Morgan Hardin  \n",
    "**Version:** 1.0  \n",
    "**Semester:** Spring 2024 \n",
    "\n",
    "This *notebook* contains my solution(s) to **Programming Assignment 2**\n",
    "\n",
    "- Problem 1: Printing Numbers\n",
    "- Problem 2: Age Status\n",
    "- Problem 3: Age Status v3"
   ]
  },
  {
   "cell_type": "markdown",
   "id": "92fe7817-ad8c-409d-b4da-f5e0e3e4015f",
   "metadata": {},
   "source": [
    "### Problem 1: Printing Numbers"
   ]
  },
  {
   "cell_type": "code",
   "execution_count": 1,
   "id": "9695b896-75e7-4f30-b0a1-84055b58dd0e",
   "metadata": {},
   "outputs": [
    {
     "name": "stdout",
     "output_type": "stream",
     "text": [
      "0\n",
      "1\n",
      "2\n",
      "3\n",
      "4\n",
      "5\n",
      "6 *\n",
      "7\n",
      "8\n",
      "9 *\n",
      "10\n",
      "11\n",
      "12 *\n",
      "13\n",
      "14\n",
      "15 *\n",
      "16\n",
      "17\n",
      "18 *\n",
      "19\n",
      "20\n",
      "21 *\n",
      "22\n",
      "23\n",
      "24 *\n",
      "25\n",
      "26\n",
      "27 *\n",
      "28\n",
      "29\n",
      "30 *\n",
      "31\n",
      "32\n",
      "33 *\n",
      "34\n",
      "35\n",
      "36 *\n",
      "37\n",
      "38\n",
      "39 *\n",
      "40\n",
      "41\n",
      "42 *\n",
      "43\n",
      "44\n",
      "45 *\n",
      "46\n",
      "47\n",
      "48 *\n",
      "49\n",
      "50\n",
      "51 *\n",
      "52\n",
      "53\n",
      "54 *\n",
      "55\n",
      "56\n",
      "57 *\n",
      "58\n",
      "59\n",
      "60 *\n",
      "61\n",
      "62\n",
      "63 *\n",
      "64\n",
      "65\n",
      "66 *\n",
      "67\n",
      "68\n",
      "69 *\n",
      "70\n",
      "71\n",
      "72 *\n",
      "73\n",
      "74\n",
      "75 *\n",
      "76\n",
      "77\n",
      "78 *\n",
      "79\n",
      "80\n",
      "81 *\n",
      "82\n",
      "83\n",
      "84 *\n",
      "85\n",
      "86\n",
      "87 *\n",
      "88\n",
      "89\n",
      "90 *\n",
      "91\n",
      "92\n",
      "93 *\n",
      "94\n",
      "95\n",
      "96 *\n",
      "97\n",
      "98\n",
      "99 *\n"
     ]
    }
   ],
   "source": [
    "for i in range(100):\n",
    "    if (i%3 == 0 and i>3):\n",
    "        print(i, \"*\")\n",
    "    else:\n",
    "        print(i)"
   ]
  },
  {
   "cell_type": "markdown",
   "id": "6f4ca3d1-4a27-4b1f-b3e4-341324857800",
   "metadata": {},
   "source": [
    "### Problem 2: Age Status"
   ]
  },
  {
   "cell_type": "code",
   "execution_count": 2,
   "id": "00d22cd0-635d-47cc-a177-1b47b8b2a334",
   "metadata": {},
   "outputs": [
    {
     "name": "stdin",
     "output_type": "stream",
     "text": [
      "What is the subject's age?  5\n"
     ]
    },
    {
     "name": "stdout",
     "output_type": "stream",
     "text": [
      "The subject is a Minor.\n"
     ]
    },
    {
     "name": "stdin",
     "output_type": "stream",
     "text": [
      "What is the subject's age?  45\n"
     ]
    },
    {
     "name": "stdout",
     "output_type": "stream",
     "text": [
      "The subject is an Adult.\n"
     ]
    },
    {
     "name": "stdin",
     "output_type": "stream",
     "text": [
      "What is the subject's age?  85\n"
     ]
    },
    {
     "name": "stdout",
     "output_type": "stream",
     "text": [
      "The subject is a Senior Citizen.\n"
     ]
    },
    {
     "name": "stdin",
     "output_type": "stream",
     "text": [
      "What is the subject's age?  18\n"
     ]
    },
    {
     "name": "stdout",
     "output_type": "stream",
     "text": [
      "The subject is an Adult.\n"
     ]
    },
    {
     "name": "stdin",
     "output_type": "stream",
     "text": [
      "What is the subject's age?  64\n"
     ]
    },
    {
     "name": "stdout",
     "output_type": "stream",
     "text": [
      "The subject is an Adult.\n"
     ]
    },
    {
     "name": "stdin",
     "output_type": "stream",
     "text": [
      "What is the subject's age?  65\n"
     ]
    },
    {
     "name": "stdout",
     "output_type": "stream",
     "text": [
      "The subject is a Senior Citizen.\n"
     ]
    },
    {
     "name": "stdin",
     "output_type": "stream",
     "text": [
      "What is the subject's age?  17\n"
     ]
    },
    {
     "name": "stdout",
     "output_type": "stream",
     "text": [
      "The subject is a Minor.\n"
     ]
    },
    {
     "name": "stdin",
     "output_type": "stream",
     "text": [
      "What is the subject's age?  0\n"
     ]
    }
   ],
   "source": [
    "age = int(input(\"What is the subject's age? \"))\n",
    "while (age > 0):\n",
    "    if (age < 18):\n",
    "        print(\"The subject is a Minor.\")\n",
    "    elif (age > 17 and age < 65):\n",
    "        print(\"The subject is an Adult.\")\n",
    "    else:\n",
    "        print(\"The subject is a Senior Citizen.\")\n",
    "    age = int(input(\"What is the subject's age? \"))"
   ]
  },
  {
   "cell_type": "markdown",
   "id": "3ef7b1a1-f278-4cfa-8150-b810c52bf9e8",
   "metadata": {},
   "source": [
    "### Problem 3: Age Status v2"
   ]
  },
  {
   "cell_type": "code",
   "execution_count": 3,
   "id": "7ba3aa7c-8d00-46dd-ac64-21d193628b27",
   "metadata": {},
   "outputs": [
    {
     "name": "stdout",
     "output_type": "stream",
     "text": [
      "65 : Senior Citizen\n",
      "78 : Senior Citizen\n",
      "34 : Adult\n",
      "56 : Adult\n",
      "12 : Minor\n",
      "9 : Minor\n",
      "43 : Adult\n",
      "67 : Senior Citizen\n"
     ]
    }
   ],
   "source": [
    "ages = [65, 78, 34, 56, 12, 9, 43, 67]\n",
    "for age in ages:\n",
    "    if (age < 18):\n",
    "        print(age, \": Minor\")\n",
    "    elif (age > 17 and age < 65):\n",
    "        print(age, \": Adult\")\n",
    "    else:\n",
    "        print(age, \": Senior Citizen\")"
   ]
  },
  {
   "cell_type": "markdown",
   "id": "5b4b7aa8-812a-4d7d-aed4-0cdb2e7d3b0a",
   "metadata": {},
   "source": [
    "### Problem 4: Calculating Pi"
   ]
  },
  {
   "cell_type": "code",
   "execution_count": 4,
   "id": "e7c92517-90dd-4ee5-b0eb-ca4b47be39be",
   "metadata": {},
   "outputs": [
    {
     "name": "stdout",
     "output_type": "stream",
     "text": [
      "π=3.1611986129870506 using 51 terms.\n",
      "π=3.143588659585789 using 501 terms.\n",
      "π=3.1417926135957908 using 5001 terms.\n",
      "π=3.141612653189785 using 50001 terms.\n",
      "π=3.1415946535856922 using 500001 terms.\n"
     ]
    }
   ],
   "source": [
    "i=3\n",
    "pi = 4\n",
    "terms = 1\n",
    "for k in [100,1000,10000,100000,1000000]:\n",
    "    while i<=k:\n",
    "        pi = pi - 4/i\n",
    "        i+=2\n",
    "        pi = pi + 4/i\n",
    "        i+=2\n",
    "        terms+=2\n",
    "    print(f'π={pi} using {terms} terms.')"
   ]
  }
 ],
 "metadata": {
  "kernelspec": {
   "display_name": "Python 3 (ipykernel)",
   "language": "python",
   "name": "python3"
  },
  "language_info": {
   "codemirror_mode": {
    "name": "ipython",
    "version": 3
   },
   "file_extension": ".py",
   "mimetype": "text/x-python",
   "name": "python",
   "nbconvert_exporter": "python",
   "pygments_lexer": "ipython3",
   "version": "3.9.12"
  }
 },
 "nbformat": 4,
 "nbformat_minor": 5
}
